{
 "cells": [
  {
   "cell_type": "markdown",
   "metadata": {},
   "source": [
    "# Program to extract the temporal expressions from the text (using Regular Expression)"
   ]
  },
  {
   "cell_type": "code",
   "execution_count": 1,
   "metadata": {},
   "outputs": [],
   "source": [
    "import re"
   ]
  },
  {
   "cell_type": "code",
   "execution_count": 4,
   "metadata": {},
   "outputs": [
    {
     "name": "stdout",
     "output_type": "stream",
     "text": [
      "Enter the text:\n",
      "I get up in the morning at 6 am. I have been playing cricket since 2004.  My birth date is 1997/9/8. It has been 2 hours since I am studying. The time right now is  12:45. He is coming today. I study till midnight everyday. It takes 2 mins to solve this problem. He is coming in January. He went abroad on 2nd March, 1999. He was working here 5 years ago. \n",
      "\n",
      "\n",
      "Temporal expressions are listed below:\n",
      "\n",
      "('morning', 'mor', '', '')\n",
      "('today', '', '', '')\n",
      "('midnight', '', 'mid', '')\n",
      "('everyday', '', '', 'every')\n",
      "now\n",
      "ago\n",
      "('January', '', '', 'January', 'January', '', '')\n",
      "('2nd March', '2nd ', 'nd', 'March', 'March', '', '')\n",
      "6 am\n",
      "('2 hours', '', 'hours', 'hour')\n",
      "('2 mins', '', 'mins', 'min')\n",
      "('', '1997/9/8')\n",
      "('12:45', '12')\n",
      "2004\n",
      "1997\n",
      "1999\n"
     ]
    }
   ],
   "source": [
    "#Method 1\n",
    "print('Enter the text:')\n",
    "text = input()\n",
    "months='(Jan(?:uary)?|Feb(?:ruary)?|Mar(?:ch)?|Apr(?:il)?|May|Jun(?:e)?|Jul(?:y)?|Aug(?:ust)?|Sep(?:tember)?|Oct(?:ober)?|(Nov|Dec)(?:ember)?)'\n",
    "\n",
    "re1=r'\\w?((mor|eve)(?:ning)|after(?:noon)?|(mid)?night|today|tomorrow|(yester|every)(?:day))'\n",
    "re2=r'\\d?\\w*(ago|after|before|now)'\n",
    "re3=r'((\\d{1,2}(st|nd|rd|th)\\s?)?(%s\\s?)(\\d{1,2})?)' % months\n",
    "re4=r'\\d{1,2}\\s?[a|p]m'\n",
    "re5=r'(\\d{1,2}(:\\d{2})?\\s?((hour|minute|second|hr|min|sec)(?:s)?))'\n",
    "re6=r'(\\d{1,2}/\\d{1,2}/\\d{4})|(\\d{4}/\\d{1,2}/\\d{1,2})'\n",
    "re7=r'(([0-1]?[0-9]|2[0-3]):[0-5][0-9])'\n",
    "re8=r'\\d{4}'\n",
    "\n",
    "relist= [re1, re2, re3, re4, re5, re6, re7, re8]\n",
    "\n",
    "print(\"\\n\\nTemporal expressions are listed below:\\n\")\n",
    "for exp in relist:\n",
    "    match = re.findall(exp,text)\n",
    "    for x in match: \n",
    "        print(x)\n",
    "        \n"
   ]
  },
  {
   "cell_type": "code",
   "execution_count": 3,
   "metadata": {},
   "outputs": [
    {
     "name": "stdout",
     "output_type": "stream",
     "text": [
      "Enter the text:\n",
      "I get up in the morning at 6 am. I have been playing cricket since 2004.  My birth date is 1997/9/8. It has been 2 hours since I am studying. The time right now is  12:45. He is coming today. I study till midnight everyday. It takes 2 mins to solve this problem. He is coming in January. He went abroad on 2nd March, 1999. He was working here 5 years ago. \n",
      "\n",
      "\n",
      " Output(with temporal expression enclosed within square bracket:\n",
      "\n",
      "I get up in the [morning] at [6 am]\n",
      " I have been playing cricket since [2004]\n",
      "  My birth date is [1997/9/8]\n",
      " It has been [2 hours] since I am studying\n",
      " The time right [now] is  [12:45]\n",
      " He is coming [today]\n",
      " I study till [midnight] [everyday]\n",
      " It takes [2 mins] to solve this problem\n",
      " He is coming in [January]\n",
      " He went abroad on [2nd March], [1999]\n",
      " He was working here 5 years [ago]\n",
      " \n"
     ]
    }
   ],
   "source": [
    "#Method 2\n",
    "print('Enter the text:')\n",
    "text = input()\n",
    "text=list(text.split(\".\"))\n",
    "months='(Jan(?:uary)?|Feb(?:ruary)?|Mar(?:ch)?|Apr(?:il)?|May|Jun(?:e)?|Jul(?:y)?|Aug(?:ust)?|Sep(?:tember)?|Oct(?:ober)?|(Nov|Dec)(?:ember)?)'\n",
    "\n",
    "re1=r'\\w?((mor|eve)(?:ning)|after(?:noon)?|(mid)?night|today|tomorrow|(yester|every)(?:day))'\n",
    "re2=r'\\d?\\w*(ago|after|before|now)'\n",
    "re3=r'((\\d{1,2}(st|nd|rd|th)\\s?)?(%s\\s?)(\\d{1,2})?)' % months\n",
    "re4=r'\\d{1,2}\\s?[a|p]m'\n",
    "re5=r'(\\d{1,2}(:\\d{2})?\\s?((hour|minute|second|hr|min|sec)(?:s)?))'\n",
    "re6=r'(\\d{1,2}/\\d{1,2}/\\d{4})|(\\d{4}/\\d{1,2}/\\d{1,2})'\n",
    "re7=r'(([0-1]?[0-9]|2[0-3]):[0-5][0-9])'\n",
    "re8=r'\\d{4}'\n",
    "\n",
    "relist= [re1, re2, re3, re4, re5, re6, re7, re8]\n",
    "\n",
    "re_compiled = re.compile(\"(%s|%s|%s|%s|%s|%s|%s|%s)\" % (re1, re2, re3, re4, re5, re6, re7, re8))\n",
    "print(\"\\n\\n Output(with temporal expression enclosed within square bracket:\\n\")\n",
    "\n",
    "for s in text:\n",
    "    print (re.sub(re_compiled, r'[\\1]', s))\n"
   ]
  },
  {
   "cell_type": "code",
   "execution_count": null,
   "metadata": {},
   "outputs": [],
   "source": []
  }
 ],
 "metadata": {
  "kernelspec": {
   "display_name": "Python 3",
   "language": "python",
   "name": "python3"
  },
  "language_info": {
   "codemirror_mode": {
    "name": "ipython",
    "version": 3
   },
   "file_extension": ".py",
   "mimetype": "text/x-python",
   "name": "python",
   "nbconvert_exporter": "python",
   "pygments_lexer": "ipython3",
   "version": "3.7.1"
  }
 },
 "nbformat": 4,
 "nbformat_minor": 4
}
